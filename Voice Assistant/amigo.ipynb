{
 "cells": [
  {
   "cell_type": "code",
   "execution_count": 1,
   "id": "753fb228-bd65-41c7-96c0-bdea18fad4aa",
   "metadata": {},
   "outputs": [],
   "source": [
    "import pyttsx3\n",
    "import speech_recognition as sr\n",
    "import wikipedia\n",
    "import webbrowser\n",
    "import os"
   ]
  },
  {
   "cell_type": "code",
   "execution_count": 2,
   "id": "60a9295b-0275-4bb1-9f8f-c1db2a933eb8",
   "metadata": {},
   "outputs": [],
   "source": [
    "# init pyttsx\n",
    "engine = pyttsx3.init(\"sapi5\")\n",
    "voices = engine.getProperty(\"voices\")\n",
    "\n",
    "engine.setProperty('voice', voices[1].id)  # 1 for female and 0 for male voice"
   ]
  },
  {
   "cell_type": "code",
   "execution_count": 3,
   "id": "5d4149fa-7cfd-4ad5-b8a2-b9f0d31a0b0e",
   "metadata": {},
   "outputs": [],
   "source": [
    "def speak(audio):\n",
    "    engine.say(audio)\n",
    "    engine.runAndWait()"
   ]
  },
  {
   "cell_type": "code",
   "execution_count": 4,
   "id": "ebf4ea60-26f3-4b1a-9c63-270f6bfc2f1d",
   "metadata": {},
   "outputs": [],
   "source": [
    "def take_command():\n",
    "    r = sr.Recognizer()\n",
    "    with sr.Microphone() as source:\n",
    "        print(\"Listening...\")\n",
    "        r.pause_threshold = 1\n",
    "        audio = r.listen(source)\n",
    "    try:\n",
    "        print(\"Recognizing...\")\n",
    "        query = r.recognize_google(audio, language='en-in')\n",
    "        print(\"User said:\" + query + \"\\n\")\n",
    "    except Exception as e:\n",
    "        print(e)\n",
    "        speak(\"I didnt understand\")\n",
    "        return \"None\"\n",
    "    return query"
   ]
  },
  {
   "cell_type": "code",
   "execution_count": null,
   "id": "a1d39ee7-9adf-4a13-8328-7ab564f2b7f8",
   "metadata": {},
   "outputs": [],
   "source": [
    "if __name__ == '__main__':\n",
    "\n",
    "    speak(\"Amigo assistance activated \")\n",
    "    speak(\"How can i help you\")\n",
    "    while True:\n",
    "        query = take_command().lower()\n",
    "        if 'wikipedia' in query:\n",
    "            speak(\"Searching Wikipedia ...\")\n",
    "            query = query.replace(\"wikipedia\", '')\n",
    "            results = wikipedia.summary(query, sentences=2)\n",
    "            speak(\"According to wikipedia\")\n",
    "            speak(results)\n",
    "        elif 'are you' in query:\n",
    "            speak(\"I am amigo developed by Shubham Saxena\")\n",
    "        elif 'open youtube' in query:\n",
    "            speak(\"opening youtube\")\n",
    "            webbrowser.open(\"youtube.com\")\n",
    "        elif 'open google' in query:\n",
    "            speak(\"opening google\")\n",
    "            webbrowser.open(\"google.com\")\n",
    "        elif 'open github' in query:\n",
    "            speak(\"opening github\")\n",
    "            webbrowser.open(\"github.com\")\n",
    "        elif 'open stackoverflow' in query:\n",
    "            speak(\"opening stackoverflow\")\n",
    "            webbrowser.open(\"stackoverflow.com\")\n",
    "        elif 'open spotify' in query:\n",
    "            speak(\"opening spotify\")\n",
    "            webbrowser.open(\"spotify.com\")\n",
    "        elif 'open whatsapp' in query:\n",
    "            speak(\"opening whatsapp\")\n",
    "            loc = \"C:\\\\Users\\\\jaspr\\\\AppData\\\\Local\\\\WhatsApp\\\\WhatsApp.exe\"\n",
    "            os.startfile(loc)\n",
    "        elif 'play music' in query:\n",
    "            speak(\"opening music\")\n",
    "            webbrowser.open(\"spotify.com\")\n",
    "        elif 'play music' in query:\n",
    "            speak(\"opening music\")\n",
    "            webbrowser.open(\"spotify.com\")\n",
    "        elif 'local disk d' in query:\n",
    "            speak(\"opening local disk D\")\n",
    "            webbrowser.open(\"D://\")\n",
    "        elif 'local disk c' in query:\n",
    "            speak(\"opening local disk C\")\n",
    "            webbrowser.open(\"C://\")\n",
    "        elif 'local disk e' in query:\n",
    "            speak(\"opening local disk E\")\n",
    "            webbrowser.open(\"E://\")\n",
    "        elif 'sleep' in query:\n",
    "            exit(0)"
   ]
  }
 ],
 "metadata": {
  "kernelspec": {
   "display_name": "Python 3 (ipykernel)",
   "language": "python",
   "name": "python3"
  },
  "language_info": {
   "codemirror_mode": {
    "name": "ipython",
    "version": 3
   },
   "file_extension": ".py",
   "mimetype": "text/x-python",
   "name": "python",
   "nbconvert_exporter": "python",
   "pygments_lexer": "ipython3",
   "version": "3.11.9"
  }
 },
 "nbformat": 4,
 "nbformat_minor": 5
}
